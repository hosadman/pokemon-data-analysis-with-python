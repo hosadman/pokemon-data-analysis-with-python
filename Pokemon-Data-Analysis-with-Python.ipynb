{
 "cells": [
  {
   "cell_type": "markdown",
   "metadata": {},
   "source": [
    "# Pokemon Data Analysis with Python\n",
    "\n",
    "The amazing world of Pokemon spans a total of 8 generations, consisting of different species and types. We'll now analyze a dataset of all Pokemon from all the 8 generations and try to find patterns and trends among the types and statistics."
   ]
  },
  {
   "cell_type": "markdown",
   "metadata": {},
   "source": [
    "## Importing the libraries"
   ]
  },
  {
   "cell_type": "markdown",
   "metadata": {},
   "source": [
    "Firstly, we'll import all the necessary libraries, like Pandas and NumPy, alongside, tools needed for data visualization. like Matplotlib and Seaborn."
   ]
  },
  {
   "cell_type": "code",
   "execution_count": 1,
   "metadata": {},
   "outputs": [],
   "source": [
    "import pandas as pd\n",
    "import numpy as np\n",
    "import matplotlib.pyplot as plt\n",
    "import seaborn as sns"
   ]
  },
  {
   "cell_type": "markdown",
   "metadata": {},
   "source": [
    "## Importing the dataset"
   ]
  },
  {
   "cell_type": "markdown",
   "metadata": {},
   "source": [
    "Next, we'll import the pokedex dataset which includes all the data of the Pokemon."
   ]
  },
  {
   "cell_type": "code",
   "execution_count": 2,
   "metadata": {
    "scrolled": true
   },
   "outputs": [
    {
     "data": {
      "text/html": [
       "<div>\n",
       "<style scoped>\n",
       "    .dataframe tbody tr th:only-of-type {\n",
       "        vertical-align: middle;\n",
       "    }\n",
       "\n",
       "    .dataframe tbody tr th {\n",
       "        vertical-align: top;\n",
       "    }\n",
       "\n",
       "    .dataframe thead th {\n",
       "        text-align: right;\n",
       "    }\n",
       "</style>\n",
       "<table border=\"1\" class=\"dataframe\">\n",
       "  <thead>\n",
       "    <tr style=\"text-align: right;\">\n",
       "      <th></th>\n",
       "      <th>Unnamed: 0</th>\n",
       "      <th>pokedex_number</th>\n",
       "      <th>name</th>\n",
       "      <th>german_name</th>\n",
       "      <th>japanese_name</th>\n",
       "      <th>generation</th>\n",
       "      <th>is_sub_legendary</th>\n",
       "      <th>is_legendary</th>\n",
       "      <th>is_mythical</th>\n",
       "      <th>species</th>\n",
       "      <th>...</th>\n",
       "      <th>against_ground</th>\n",
       "      <th>against_flying</th>\n",
       "      <th>against_psychic</th>\n",
       "      <th>against_bug</th>\n",
       "      <th>against_rock</th>\n",
       "      <th>against_ghost</th>\n",
       "      <th>against_dragon</th>\n",
       "      <th>against_dark</th>\n",
       "      <th>against_steel</th>\n",
       "      <th>against_fairy</th>\n",
       "    </tr>\n",
       "  </thead>\n",
       "  <tbody>\n",
       "    <tr>\n",
       "      <th>0</th>\n",
       "      <td>0</td>\n",
       "      <td>1</td>\n",
       "      <td>Bulbasaur</td>\n",
       "      <td>Bisasam</td>\n",
       "      <td>フシギダネ (Fushigidane)</td>\n",
       "      <td>1</td>\n",
       "      <td>0</td>\n",
       "      <td>0</td>\n",
       "      <td>0</td>\n",
       "      <td>Seed Pokémon</td>\n",
       "      <td>...</td>\n",
       "      <td>1.0</td>\n",
       "      <td>2.0</td>\n",
       "      <td>2.0</td>\n",
       "      <td>1.00</td>\n",
       "      <td>1.0</td>\n",
       "      <td>1.0</td>\n",
       "      <td>1.0</td>\n",
       "      <td>1.0</td>\n",
       "      <td>1.0</td>\n",
       "      <td>0.5</td>\n",
       "    </tr>\n",
       "    <tr>\n",
       "      <th>1</th>\n",
       "      <td>1</td>\n",
       "      <td>2</td>\n",
       "      <td>Ivysaur</td>\n",
       "      <td>Bisaknosp</td>\n",
       "      <td>フシギソウ (Fushigisou)</td>\n",
       "      <td>1</td>\n",
       "      <td>0</td>\n",
       "      <td>0</td>\n",
       "      <td>0</td>\n",
       "      <td>Seed Pokémon</td>\n",
       "      <td>...</td>\n",
       "      <td>1.0</td>\n",
       "      <td>2.0</td>\n",
       "      <td>2.0</td>\n",
       "      <td>1.00</td>\n",
       "      <td>1.0</td>\n",
       "      <td>1.0</td>\n",
       "      <td>1.0</td>\n",
       "      <td>1.0</td>\n",
       "      <td>1.0</td>\n",
       "      <td>0.5</td>\n",
       "    </tr>\n",
       "    <tr>\n",
       "      <th>2</th>\n",
       "      <td>2</td>\n",
       "      <td>3</td>\n",
       "      <td>Venusaur</td>\n",
       "      <td>Bisaflor</td>\n",
       "      <td>フシギバナ (Fushigibana)</td>\n",
       "      <td>1</td>\n",
       "      <td>0</td>\n",
       "      <td>0</td>\n",
       "      <td>0</td>\n",
       "      <td>Seed Pokémon</td>\n",
       "      <td>...</td>\n",
       "      <td>1.0</td>\n",
       "      <td>2.0</td>\n",
       "      <td>2.0</td>\n",
       "      <td>1.00</td>\n",
       "      <td>1.0</td>\n",
       "      <td>1.0</td>\n",
       "      <td>1.0</td>\n",
       "      <td>1.0</td>\n",
       "      <td>1.0</td>\n",
       "      <td>0.5</td>\n",
       "    </tr>\n",
       "    <tr>\n",
       "      <th>3</th>\n",
       "      <td>3</td>\n",
       "      <td>3</td>\n",
       "      <td>Mega Venusaur</td>\n",
       "      <td>Bisaflor</td>\n",
       "      <td>フシギバナ (Fushigibana)</td>\n",
       "      <td>1</td>\n",
       "      <td>0</td>\n",
       "      <td>0</td>\n",
       "      <td>0</td>\n",
       "      <td>Seed Pokémon</td>\n",
       "      <td>...</td>\n",
       "      <td>1.0</td>\n",
       "      <td>2.0</td>\n",
       "      <td>2.0</td>\n",
       "      <td>1.00</td>\n",
       "      <td>1.0</td>\n",
       "      <td>1.0</td>\n",
       "      <td>1.0</td>\n",
       "      <td>1.0</td>\n",
       "      <td>1.0</td>\n",
       "      <td>0.5</td>\n",
       "    </tr>\n",
       "    <tr>\n",
       "      <th>4</th>\n",
       "      <td>4</td>\n",
       "      <td>4</td>\n",
       "      <td>Charmander</td>\n",
       "      <td>Glumanda</td>\n",
       "      <td>ヒトカゲ (Hitokage)</td>\n",
       "      <td>1</td>\n",
       "      <td>0</td>\n",
       "      <td>0</td>\n",
       "      <td>0</td>\n",
       "      <td>Lizard Pokémon</td>\n",
       "      <td>...</td>\n",
       "      <td>2.0</td>\n",
       "      <td>1.0</td>\n",
       "      <td>1.0</td>\n",
       "      <td>0.50</td>\n",
       "      <td>2.0</td>\n",
       "      <td>1.0</td>\n",
       "      <td>1.0</td>\n",
       "      <td>1.0</td>\n",
       "      <td>0.5</td>\n",
       "      <td>0.5</td>\n",
       "    </tr>\n",
       "    <tr>\n",
       "      <th>5</th>\n",
       "      <td>5</td>\n",
       "      <td>5</td>\n",
       "      <td>Charmeleon</td>\n",
       "      <td>Glutexo</td>\n",
       "      <td>リザード (Lizardo)</td>\n",
       "      <td>1</td>\n",
       "      <td>0</td>\n",
       "      <td>0</td>\n",
       "      <td>0</td>\n",
       "      <td>Flame Pokémon</td>\n",
       "      <td>...</td>\n",
       "      <td>2.0</td>\n",
       "      <td>1.0</td>\n",
       "      <td>1.0</td>\n",
       "      <td>0.50</td>\n",
       "      <td>2.0</td>\n",
       "      <td>1.0</td>\n",
       "      <td>1.0</td>\n",
       "      <td>1.0</td>\n",
       "      <td>0.5</td>\n",
       "      <td>0.5</td>\n",
       "    </tr>\n",
       "    <tr>\n",
       "      <th>6</th>\n",
       "      <td>6</td>\n",
       "      <td>6</td>\n",
       "      <td>Charizard</td>\n",
       "      <td>Glurak</td>\n",
       "      <td>リザードン (Lizardon)</td>\n",
       "      <td>1</td>\n",
       "      <td>0</td>\n",
       "      <td>0</td>\n",
       "      <td>0</td>\n",
       "      <td>Flame Pokémon</td>\n",
       "      <td>...</td>\n",
       "      <td>0.0</td>\n",
       "      <td>1.0</td>\n",
       "      <td>1.0</td>\n",
       "      <td>0.25</td>\n",
       "      <td>4.0</td>\n",
       "      <td>1.0</td>\n",
       "      <td>1.0</td>\n",
       "      <td>1.0</td>\n",
       "      <td>0.5</td>\n",
       "      <td>0.5</td>\n",
       "    </tr>\n",
       "    <tr>\n",
       "      <th>7</th>\n",
       "      <td>7</td>\n",
       "      <td>6</td>\n",
       "      <td>Mega Charizard X</td>\n",
       "      <td>Glurak</td>\n",
       "      <td>リザードン (Lizardon)</td>\n",
       "      <td>1</td>\n",
       "      <td>0</td>\n",
       "      <td>0</td>\n",
       "      <td>0</td>\n",
       "      <td>Flame Pokémon</td>\n",
       "      <td>...</td>\n",
       "      <td>2.0</td>\n",
       "      <td>1.0</td>\n",
       "      <td>1.0</td>\n",
       "      <td>0.50</td>\n",
       "      <td>2.0</td>\n",
       "      <td>1.0</td>\n",
       "      <td>2.0</td>\n",
       "      <td>1.0</td>\n",
       "      <td>0.5</td>\n",
       "      <td>1.0</td>\n",
       "    </tr>\n",
       "    <tr>\n",
       "      <th>8</th>\n",
       "      <td>8</td>\n",
       "      <td>6</td>\n",
       "      <td>Mega Charizard Y</td>\n",
       "      <td>Glurak</td>\n",
       "      <td>リザードン (Lizardon)</td>\n",
       "      <td>1</td>\n",
       "      <td>0</td>\n",
       "      <td>0</td>\n",
       "      <td>0</td>\n",
       "      <td>Flame Pokémon</td>\n",
       "      <td>...</td>\n",
       "      <td>0.0</td>\n",
       "      <td>1.0</td>\n",
       "      <td>1.0</td>\n",
       "      <td>0.25</td>\n",
       "      <td>4.0</td>\n",
       "      <td>1.0</td>\n",
       "      <td>1.0</td>\n",
       "      <td>1.0</td>\n",
       "      <td>0.5</td>\n",
       "      <td>0.5</td>\n",
       "    </tr>\n",
       "    <tr>\n",
       "      <th>9</th>\n",
       "      <td>9</td>\n",
       "      <td>7</td>\n",
       "      <td>Squirtle</td>\n",
       "      <td>Schiggy</td>\n",
       "      <td>ゼニガメ (Zenigame)</td>\n",
       "      <td>1</td>\n",
       "      <td>0</td>\n",
       "      <td>0</td>\n",
       "      <td>0</td>\n",
       "      <td>Tiny Turtle Pokémon</td>\n",
       "      <td>...</td>\n",
       "      <td>1.0</td>\n",
       "      <td>1.0</td>\n",
       "      <td>1.0</td>\n",
       "      <td>1.00</td>\n",
       "      <td>1.0</td>\n",
       "      <td>1.0</td>\n",
       "      <td>1.0</td>\n",
       "      <td>1.0</td>\n",
       "      <td>0.5</td>\n",
       "      <td>1.0</td>\n",
       "    </tr>\n",
       "  </tbody>\n",
       "</table>\n",
       "<p>10 rows × 53 columns</p>\n",
       "</div>"
      ],
      "text/plain": [
       "   Unnamed: 0  pokedex_number              name german_name  \\\n",
       "0           0               1         Bulbasaur     Bisasam   \n",
       "1           1               2           Ivysaur   Bisaknosp   \n",
       "2           2               3          Venusaur    Bisaflor   \n",
       "3           3               3     Mega Venusaur    Bisaflor   \n",
       "4           4               4        Charmander    Glumanda   \n",
       "5           5               5        Charmeleon     Glutexo   \n",
       "6           6               6         Charizard      Glurak   \n",
       "7           7               6  Mega Charizard X      Glurak   \n",
       "8           8               6  Mega Charizard Y      Glurak   \n",
       "9           9               7          Squirtle     Schiggy   \n",
       "\n",
       "         japanese_name  generation  is_sub_legendary  is_legendary  \\\n",
       "0  フシギダネ (Fushigidane)           1                 0             0   \n",
       "1   フシギソウ (Fushigisou)           1                 0             0   \n",
       "2  フシギバナ (Fushigibana)           1                 0             0   \n",
       "3  フシギバナ (Fushigibana)           1                 0             0   \n",
       "4      ヒトカゲ (Hitokage)           1                 0             0   \n",
       "5       リザード (Lizardo)           1                 0             0   \n",
       "6     リザードン (Lizardon)           1                 0             0   \n",
       "7     リザードン (Lizardon)           1                 0             0   \n",
       "8     リザードン (Lizardon)           1                 0             0   \n",
       "9      ゼニガメ (Zenigame)           1                 0             0   \n",
       "\n",
       "   is_mythical              species  ...  against_ground against_flying  \\\n",
       "0            0         Seed Pokémon  ...             1.0            2.0   \n",
       "1            0         Seed Pokémon  ...             1.0            2.0   \n",
       "2            0         Seed Pokémon  ...             1.0            2.0   \n",
       "3            0         Seed Pokémon  ...             1.0            2.0   \n",
       "4            0       Lizard Pokémon  ...             2.0            1.0   \n",
       "5            0        Flame Pokémon  ...             2.0            1.0   \n",
       "6            0        Flame Pokémon  ...             0.0            1.0   \n",
       "7            0        Flame Pokémon  ...             2.0            1.0   \n",
       "8            0        Flame Pokémon  ...             0.0            1.0   \n",
       "9            0  Tiny Turtle Pokémon  ...             1.0            1.0   \n",
       "\n",
       "  against_psychic  against_bug  against_rock  against_ghost against_dragon  \\\n",
       "0             2.0         1.00           1.0            1.0            1.0   \n",
       "1             2.0         1.00           1.0            1.0            1.0   \n",
       "2             2.0         1.00           1.0            1.0            1.0   \n",
       "3             2.0         1.00           1.0            1.0            1.0   \n",
       "4             1.0         0.50           2.0            1.0            1.0   \n",
       "5             1.0         0.50           2.0            1.0            1.0   \n",
       "6             1.0         0.25           4.0            1.0            1.0   \n",
       "7             1.0         0.50           2.0            1.0            2.0   \n",
       "8             1.0         0.25           4.0            1.0            1.0   \n",
       "9             1.0         1.00           1.0            1.0            1.0   \n",
       "\n",
       "  against_dark against_steel  against_fairy  \n",
       "0          1.0           1.0            0.5  \n",
       "1          1.0           1.0            0.5  \n",
       "2          1.0           1.0            0.5  \n",
       "3          1.0           1.0            0.5  \n",
       "4          1.0           0.5            0.5  \n",
       "5          1.0           0.5            0.5  \n",
       "6          1.0           0.5            0.5  \n",
       "7          1.0           0.5            1.0  \n",
       "8          1.0           0.5            0.5  \n",
       "9          1.0           0.5            1.0  \n",
       "\n",
       "[10 rows x 53 columns]"
      ]
     },
     "execution_count": 2,
     "metadata": {},
     "output_type": "execute_result"
    }
   ],
   "source": [
    "poke = pd.read_csv('pokedex.csv')\n",
    "\n",
    "poke.head(10)"
   ]
  },
  {
   "cell_type": "markdown",
   "metadata": {},
   "source": [
    "Next, we'll see the shape of the dataset and count the the number of values in each column."
   ]
  },
  {
   "cell_type": "code",
   "execution_count": 3,
   "metadata": {},
   "outputs": [
    {
     "name": "stdout",
     "output_type": "stream",
     "text": [
      "(1028, 53)\n"
     ]
    },
    {
     "data": {
      "text/plain": [
       "Unnamed: 0          1028\n",
       "pokedex_number      1028\n",
       "name                1028\n",
       "german_name          938\n",
       "japanese_name        938\n",
       "generation          1028\n",
       "is_sub_legendary    1028\n",
       "is_legendary        1028\n",
       "is_mythical         1028\n",
       "species             1027\n",
       "type_number         1028\n",
       "type_1              1027\n",
       "type_2               541\n",
       "height_m            1027\n",
       "weight_kg           1026\n",
       "abilities_number    1028\n",
       "ability_1           1024\n",
       "ability_2            512\n",
       "ability_hidden       810\n",
       "total_points        1027\n",
       "hp                  1027\n",
       "attack              1027\n",
       "defense             1027\n",
       "sp_attack           1027\n",
       "sp_defense          1027\n",
       "speed               1027\n",
       "catch_rate           923\n",
       "base_friendship      923\n",
       "base_experience      923\n",
       "growth_rate         1026\n",
       "egg_type_number     1028\n",
       "egg_type_1          1024\n",
       "egg_type_2           282\n",
       "percentage_male      791\n",
       "egg_cycles          1026\n",
       "against_normal      1027\n",
       "against_fire        1027\n",
       "against_water       1027\n",
       "against_electric    1027\n",
       "against_grass       1027\n",
       "against_ice         1027\n",
       "against_fight       1027\n",
       "against_poison      1027\n",
       "against_ground      1027\n",
       "against_flying      1027\n",
       "against_psychic     1027\n",
       "against_bug         1027\n",
       "against_rock        1027\n",
       "against_ghost       1027\n",
       "against_dragon      1027\n",
       "against_dark        1027\n",
       "against_steel       1027\n",
       "against_fairy       1027\n",
       "dtype: int64"
      ]
     },
     "execution_count": 3,
     "metadata": {},
     "output_type": "execute_result"
    }
   ],
   "source": [
    "print(poke.shape)\n",
    "poke.count()"
   ]
  },
  {
   "cell_type": "markdown",
   "metadata": {},
   "source": [
    "#### The dataset has 1028 rows and 53 columns."
   ]
  },
  {
   "cell_type": "markdown",
   "metadata": {},
   "source": [
    "#### 1. Filter by Pokemon"
   ]
  },
  {
   "cell_type": "markdown",
   "metadata": {},
   "source": [
    "#### a. Competitive statistics"
   ]
  },
  {
   "cell_type": "markdown",
   "metadata": {},
   "source": [
    "Firstly, we'll analyze the dataset in terms of the listed Pokemon. We'll take a look at the competitive statistics first and determine the top 10 Pokemon for the following stats - attack, special attack, defense, special defense, speed, hp and base total."
   ]
  },
  {
   "cell_type": "markdown",
   "metadata": {},
   "source": [
    "#### Top 10 Pokemon with the highest  physical attack"
   ]
  },
  {
   "cell_type": "code",
   "execution_count": 7,
   "metadata": {},
   "outputs": [
    {
     "data": {
      "text/plain": [
       "name\n",
       "Mega Mewtwo X           190.0\n",
       "Mega Heracross          185.0\n",
       "Kartana                 181.0\n",
       "Mega Rayquaza           180.0\n",
       "Deoxys Attack Forme     180.0\n",
       "Primal Groudon          180.0\n",
       "Mega Garchomp           170.0\n",
       "Black Kyurem            170.0\n",
       "Zacian Crowned Sword    170.0\n",
       "Ultra Necrozma          167.0\n",
       "Name: attack, dtype: float64"
      ]
     },
     "execution_count": 7,
     "metadata": {},
     "output_type": "execute_result"
    }
   ],
   "source": [
    "poke.groupby('name')['attack'].mean().sort_values(ascending=False).head(10)"
   ]
  },
  {
   "cell_type": "markdown",
   "metadata": {},
   "source": [
    "#### Top 10 Pokemon with the highest physical defense"
   ]
  },
  {
   "cell_type": "code",
   "execution_count": 8,
   "metadata": {},
   "outputs": [
    {
     "data": {
      "text/plain": [
       "name\n",
       "Eternatus Eternamax    250.0\n",
       "Mega Aggron            230.0\n",
       "Shuckle                230.0\n",
       "Mega Steelix           230.0\n",
       "Stakataka              211.0\n",
       "Steelix                200.0\n",
       "Regirock               200.0\n",
       "Avalugg                184.0\n",
       "Cloyster               180.0\n",
       "Mega Slowbro           180.0\n",
       "Name: defense, dtype: float64"
      ]
     },
     "execution_count": 8,
     "metadata": {},
     "output_type": "execute_result"
    }
   ],
   "source": [
    "poke.groupby('name')['defense'].mean().sort_values(ascending=False).head(10)"
   ]
  },
  {
   "cell_type": "markdown",
   "metadata": {},
   "source": [
    "#### Top 10 Pokemon with the highest special attack"
   ]
  },
  {
   "cell_type": "code",
   "execution_count": 9,
   "metadata": {},
   "outputs": [
    {
     "data": {
      "text/plain": [
       "name\n",
       "Mega Mewtwo Y          194.0\n",
       "Mega Rayquaza          180.0\n",
       "Primal Kyogre          180.0\n",
       "Deoxys Attack Forme    180.0\n",
       "Mega Alakazam          175.0\n",
       "Xurkitree              173.0\n",
       "Hoopa Hoopa Unbound    170.0\n",
       "Mega Gengar            170.0\n",
       "White Kyurem           170.0\n",
       "Ultra Necrozma         167.0\n",
       "Name: sp_attack, dtype: float64"
      ]
     },
     "execution_count": 9,
     "metadata": {},
     "output_type": "execute_result"
    }
   ],
   "source": [
    "poke.groupby('name')['sp_attack'].mean().sort_values(ascending=False).head(10)"
   ]
  },
  {
   "cell_type": "markdown",
   "metadata": {},
   "source": [
    "#### Top 10 Pokemon with the highest special defense"
   ]
  },
  {
   "cell_type": "code",
   "execution_count": 10,
   "metadata": {},
   "outputs": [
    {
     "data": {
      "text/plain": [
       "name\n",
       "Eternatus Eternamax     250.0\n",
       "Shuckle                 230.0\n",
       "Regice                  200.0\n",
       "Primal Kyogre           160.0\n",
       "Deoxys Defense Forme    160.0\n",
       "Ho-oh                   154.0\n",
       "Florges                 154.0\n",
       "Lugia                   154.0\n",
       "Mega Latias             150.0\n",
       "Diancie                 150.0\n",
       "Name: sp_defense, dtype: float64"
      ]
     },
     "execution_count": 10,
     "metadata": {},
     "output_type": "execute_result"
    }
   ],
   "source": [
    "poke.groupby('name')['sp_defense'].mean().sort_values(ascending=False).head(10)"
   ]
  },
  {
   "cell_type": "markdown",
   "metadata": {},
   "source": [
    "#### Top 10 Pokemon with the highest speed"
   ]
  },
  {
   "cell_type": "code",
   "execution_count": 11,
   "metadata": {},
   "outputs": [
    {
     "data": {
      "text/plain": [
       "name\n",
       "Deoxys Speed Forme      180.0\n",
       "Ninjask                 160.0\n",
       "Pheromosa               151.0\n",
       "Mega Alakazam           150.0\n",
       "Mega Aerodactyl         150.0\n",
       "Electrode               150.0\n",
       "Deoxys Attack Forme     150.0\n",
       "Deoxys Normal Forme     150.0\n",
       "Zacian Crowned Sword    148.0\n",
       "Mega Sceptile           145.0\n",
       "Name: speed, dtype: float64"
      ]
     },
     "execution_count": 11,
     "metadata": {},
     "output_type": "execute_result"
    }
   ],
   "source": [
    "poke.groupby('name')['speed'].mean().sort_values(ascending=False).head(10)"
   ]
  },
  {
   "cell_type": "markdown",
   "metadata": {},
   "source": [
    "#### Top 10 Pokemon with the highest HP"
   ]
  },
  {
   "cell_type": "code",
   "execution_count": 12,
   "metadata": {},
   "outputs": [
    {
     "data": {
      "text/plain": [
       "name\n",
       "Eternatus Eternamax       255.0\n",
       "Blissey                   255.0\n",
       "Chansey                   250.0\n",
       "Guzzlord                  223.0\n",
       "Zygarde Complete Forme    216.0\n",
       "Wobbuffet                 190.0\n",
       "Wailord                   170.0\n",
       "Alomomola                 165.0\n",
       "Snorlax                   160.0\n",
       "Giratina Origin Forme     150.0\n",
       "Name: hp, dtype: float64"
      ]
     },
     "execution_count": 12,
     "metadata": {},
     "output_type": "execute_result"
    }
   ],
   "source": [
    "poke.groupby('name')['hp'].mean().sort_values(ascending=False).head(10)"
   ]
  },
  {
   "cell_type": "markdown",
   "metadata": {},
   "source": [
    "#### Top 10 Pokemon with the highest BST"
   ]
  },
  {
   "cell_type": "code",
   "execution_count": 13,
   "metadata": {},
   "outputs": [
    {
     "data": {
      "text/plain": [
       "name\n",
       "Eternatus Eternamax         1125.0\n",
       "Mega Rayquaza                780.0\n",
       "Mega Mewtwo Y                780.0\n",
       "Mega Mewtwo X                780.0\n",
       "Primal Kyogre                770.0\n",
       "Primal Groudon               770.0\n",
       "Ultra Necrozma               754.0\n",
       "Arceus                       720.0\n",
       "Zamazenta Crowned Shield     720.0\n",
       "Zacian Crowned Sword         720.0\n",
       "Name: total_points, dtype: float64"
      ]
     },
     "execution_count": 13,
     "metadata": {},
     "output_type": "execute_result"
    }
   ],
   "source": [
    "poke.groupby('name')['total_points'].mean().sort_values(ascending=False).head(10)"
   ]
  },
  {
   "cell_type": "markdown",
   "metadata": {},
   "source": [
    "#### b. Physical attributes"
   ]
  },
  {
   "cell_type": "markdown",
   "metadata": {},
   "source": [
    "Now, we'll take a look at the top 10 Pokemon with certain physical attributes - height, weight, base friendship, base experience and catch rate."
   ]
  },
  {
   "cell_type": "markdown",
   "metadata": {},
   "source": [
    "#### Top 10 Tallest Pokemon in metres"
   ]
  },
  {
   "cell_type": "code",
   "execution_count": 15,
   "metadata": {},
   "outputs": [
    {
     "data": {
      "text/plain": [
       "name\n",
       "Eternatus Eternamax    100.0\n",
       "Eternatus               20.0\n",
       "Wailord                 14.5\n",
       "Alolan Exeggutor        10.9\n",
       "Mega Rayquaza           10.8\n",
       "Mega Steelix            10.5\n",
       "Primal Kyogre            9.8\n",
       "Celesteela               9.2\n",
       "Steelix                  9.2\n",
       "Onix                     8.8\n",
       "Name: height_m, dtype: float64"
      ]
     },
     "execution_count": 15,
     "metadata": {},
     "output_type": "execute_result"
    }
   ],
   "source": [
    "poke.groupby('name')['height_m'].mean().sort_values(ascending=False).head(10)"
   ]
  },
  {
   "cell_type": "markdown",
   "metadata": {},
   "source": [
    "#### Top 10 Heaviest Pokemon in kilograms"
   ]
  },
  {
   "cell_type": "code",
   "execution_count": 16,
   "metadata": {},
   "outputs": [
    {
     "data": {
      "text/plain": [
       "name\n",
       "Celesteela        999.9\n",
       "Cosmoem           999.9\n",
       "Primal Groudon    999.7\n",
       "Groudon           950.0\n",
       "Eternatus         950.0\n",
       "Mega Metagross    942.9\n",
       "Mudsdale          920.0\n",
       "Guzzlord          888.0\n",
       "Stakataka         820.0\n",
       "Melmetal          800.0\n",
       "Name: weight_kg, dtype: float64"
      ]
     },
     "execution_count": 16,
     "metadata": {},
     "output_type": "execute_result"
    }
   ],
   "source": [
    "poke.groupby('name')['weight_kg'].mean().sort_values(ascending=False).head(10)"
   ]
  },
  {
   "cell_type": "markdown",
   "metadata": {},
   "source": [
    "#### Top 10 Pokemon with the highest base friendship"
   ]
  },
  {
   "cell_type": "code",
   "execution_count": 17,
   "metadata": {},
   "outputs": [
    {
     "data": {
      "text/plain": [
       "name\n",
       "Clefable        140.0\n",
       "Chansey         140.0\n",
       "Azelf           140.0\n",
       "Lopunny         140.0\n",
       "Blissey         140.0\n",
       "Uxie            140.0\n",
       "Happiny         140.0\n",
       "Mesprit         140.0\n",
       "Mega Lopunny    140.0\n",
       "Clefairy        140.0\n",
       "Name: base_friendship, dtype: float64"
      ]
     },
     "execution_count": 17,
     "metadata": {},
     "output_type": "execute_result"
    }
   ],
   "source": [
    "poke.groupby('name')['base_friendship'].mean().sort_values(ascending=False).head(10)"
   ]
  },
  {
   "cell_type": "markdown",
   "metadata": {},
   "source": [
    "#### Top 10 Pokemon with the highest base experience"
   ]
  },
  {
   "cell_type": "code",
   "execution_count": 18,
   "metadata": {},
   "outputs": [
    {
     "data": {
      "text/plain": [
       "name\n",
       "Blissey           608.0\n",
       "Mega Audino       425.0\n",
       "Chansey           395.0\n",
       "Audino            390.0\n",
       "Mega Mewtwo X     351.0\n",
       "Mega Mewtwo Y     351.0\n",
       "Mega Rayquaza     351.0\n",
       "Primal Kyogre     347.0\n",
       "Primal Groudon    347.0\n",
       "Ultra Necrozma    339.0\n",
       "Name: base_experience, dtype: float64"
      ]
     },
     "execution_count": 18,
     "metadata": {},
     "output_type": "execute_result"
    }
   ],
   "source": [
    "poke.groupby('name')['base_experience'].mean().sort_values(ascending=False).head(10)"
   ]
  },
  {
   "cell_type": "markdown",
   "metadata": {},
   "source": [
    "#### Top 10 Pokemon with the highest catch rate"
   ]
  },
  {
   "cell_type": "code",
   "execution_count": 19,
   "metadata": {},
   "outputs": [
    {
     "data": {
      "text/plain": [
       "name\n",
       "Scatterbug    255.0\n",
       "Fletchling    255.0\n",
       "Bunnelby      255.0\n",
       "Geodude       255.0\n",
       "Poochyena     255.0\n",
       "Trapinch      255.0\n",
       "Poliwag       255.0\n",
       "Budew         255.0\n",
       "Pikipek       255.0\n",
       "Bronzor       255.0\n",
       "Name: catch_rate, dtype: float64"
      ]
     },
     "execution_count": 19,
     "metadata": {},
     "output_type": "execute_result"
    }
   ],
   "source": [
    "poke.groupby('name')['catch_rate'].mean().sort_values(ascending=False).head(10)"
   ]
  },
  {
   "cell_type": "markdown",
   "metadata": {},
   "source": [
    "#### 2. Filter by types"
   ]
  },
  {
   "cell_type": "markdown",
   "metadata": {},
   "source": [
    "#### a. Competitive statistics"
   ]
  },
  {
   "cell_type": "markdown",
   "metadata": {},
   "source": [
    "Firstly, we'll analyze the dataset in terms of the Pokemon types. We'll filter using the primary types of each Pokemon. We'll use Seaborn graphs to visualize the graphs. We'll take a look at the competitive statistics first and determine the top 10 types for the following stats - attack, special attack, defense, special defense, speed, hp and base total."
   ]
  },
  {
   "cell_type": "code",
   "execution_count": 4,
   "metadata": {},
   "outputs": [
    {
     "data": {
      "image/png": "[encoded data removed]",
      "text/plain": [
       "<Figure size 1440x720 with 2 Axes>"
      ]
     },
     "metadata": {},
     "output_type": "display_data"
    }
   ],
   "source": [
    "%matplotlib inline\n",
    "\n",
    "sns.set_style('whitegrid')\n",
    "\n",
    "plt.figure(figsize=(20,10))\n",
    "plt.subplot(2,2,1)\n",
    "plf = poke.groupby('type_1')['attack'].mean()\n",
    "plfg = sns.barplot(x=plf.index, y=plf, palette=\"GnBu_d\")\n",
    "plt.xlabel('Primary Type')\n",
    "plt.ylabel('Base Physical Attack')\n",
    "plt.title('The mean physical attack stat for all types')\n",
    "plfg.set_xticklabels(plfg.get_xticklabels(), rotation=90)\n",
    "\n",
    "plt.subplot(2,2,2)\n",
    "plf = poke.groupby('type_1')['sp_attack'].mean()\n",
    "plfg = sns.barplot(x=plf.index, y=plf, palette=\"OrRd_d\")\n",
    "plt.xlabel('Primary Type')\n",
    "plt.ylabel('Base Special Attack')\n",
    "plt.title('The mean special attack stat for all types')\n",
    "plfg.set_xticklabels(plfg.get_xticklabels(), rotation=90)\n",
    "\n",
    "plt.show()"
   ]
  },
  {
   "cell_type": "code",
   "execution_count": 6,
   "metadata": {},
   "outputs": [
    {
     "data": {
      "image/png": "[encoded data removed]",
      "text/plain": [
       "<Figure size 1440x720 with 2 Axes>"
      ]
     },
     "metadata": {},
     "output_type": "display_data"
    }
   ],
   "source": [
    "sns.set_style('whitegrid')\n",
    "\n",
    "plt.figure(figsize=(20,10))\n",
    "plt.subplot(2,2,1)\n",
    "plf = poke.groupby('type_1')['defense'].mean()\n",
    "plfg = sns.barplot(x=plf.index, y=plf, palette=\"YlGnBu_d\")\n",
    "plt.xlabel('Primary Type')\n",
    "plt.ylabel('Base Physical Defense')\n",
    "plt.title('The mean physical defense stat for all types')\n",
    "plfg.set_xticklabels(plfg.get_xticklabels(), rotation=90)\n",
    "\n",
    "plt.subplot(2,2,2)\n",
    "plf = poke.groupby('type_1')['sp_defense'].mean()\n",
    "plfg = sns.barplot(x=plf.index, y=plf, palette=\"YlOrRd_d\")\n",
    "plt.xlabel('Primary Type')\n",
    "plt.ylabel('Base Special Defense')\n",
    "plt.title('The mean special defense stat for all types')\n",
    "plfg.set_xticklabels(plfg.get_xticklabels(), rotation=90)\n",
    "\n",
    "plt.show()"
   ]
  },
  {
   "cell_type": "code",
   "execution_count": 7,
   "metadata": {},
   "outputs": [
    {
     "data": {
      "image/png": "[encoded data removed]",
      "text/plain": [
       "<Figure size 1440x720 with 2 Axes>"
      ]
     },
     "metadata": {},
     "output_type": "display_data"
    }
   ],
   "source": [
    "sns.set_style('whitegrid')\n",
    "\n",
    "plt.figure(figsize=(20,10))\n",
    "plt.subplot(2,2,1)\n",
    "plf = poke.groupby('type_1')['speed'].mean()\n",
    "plfg = sns.barplot(x=plf.index, y=plf, palette=\"BuPu_d\")\n",
    "plt.xlabel('Primary Type')\n",
    "plt.ylabel('Base Speed')\n",
    "plt.title('The mean speed stat for all types')\n",
    "plfg.set_xticklabels(plfg.get_xticklabels(), rotation=90)\n",
    "\n",
    "plt.subplot(2,2,2)\n",
    "plf = poke.groupby('type_1')['hp'].mean()\n",
    "plfg = sns.barplot(x=plf.index, y=plf, palette=\"RdPu_d\")\n",
    "plt.xlabel('Primary Type')\n",
    "plt.ylabel('Base HP')\n",
    "plt.title('The mean HP stat for all types')\n",
    "plfg.set_xticklabels(plfg.get_xticklabels(), rotation=90)\n",
    "\n",
    "plt.show()"
   ]
  },
  {
   "cell_type": "code",
   "execution_count": 16,
   "metadata": {},
   "outputs": [
    {
     "data": {
      "image/png": "[encoded data removed]",
      "text/plain": [
       "<Figure size 720x360 with 1 Axes>"
      ]
     },
     "metadata": {},
     "output_type": "display_data"
    }
   ],
   "source": [
    "sns.set_style('whitegrid')\n",
    "\n",
    "plt.figure(figsize=(10,5))\n",
    "plf = poke.groupby('type_1')['total_points'].mean()\n",
    "plfg = sns.barplot(x=plf.index, y=plf, palette=\"YlOrBr_d\")\n",
    "plt.xlabel('Primary Type')\n",
    "plt.ylabel('Base Total Points')\n",
    "plt.title('The mean BST for all types')\n",
    "plfg.set_xticklabels(plfg.get_xticklabels(), rotation=90)\n",
    "\n",
    "plt.show()"
   ]
  },
  {
   "cell_type": "markdown",
   "metadata": {},
   "source": [
    "#### Top 10 Primary Types by Base Physical Attack"
   ]
  },
  {
   "cell_type": "code",
   "execution_count": 13,
   "metadata": {},
   "outputs": [
    {
     "data": {
      "text/plain": [
       "type_1\n",
       "Dragon      107.200000\n",
       "Fighting    101.263158\n",
       "Ground       94.121951\n",
       "Steel        94.083333\n",
       "Rock         91.783333\n",
       "Fire         85.400000\n",
       "Dark         80.906977\n",
       "Ice          76.638889\n",
       "Poison       75.538462\n",
       "Normal       75.260870\n",
       "Name: attack, dtype: float64"
      ]
     },
     "execution_count": 13,
     "metadata": {},
     "output_type": "execute_result"
    }
   ],
   "source": [
    "poke.groupby('type_1')['attack'].mean().sort_values(ascending=False).head(10)"
   ]
  },
  {
   "cell_type": "markdown",
   "metadata": {},
   "source": [
    "#### Top 10 Primary Types by Base Special Attack"
   ]
  },
  {
   "cell_type": "code",
   "execution_count": 12,
   "metadata": {},
   "outputs": [
    {
     "data": {
      "text/plain": [
       "type_1\n",
       "Psychic     99.105263\n",
       "Dragon      91.525000\n",
       "Electric    89.377049\n",
       "Fire        86.415385\n",
       "Ghost       81.975610\n",
       "Fairy       78.954545\n",
       "Grass       75.043956\n",
       "Water       75.007463\n",
       "Flying      73.875000\n",
       "Steel       70.138889\n",
       "Name: sp_attack, dtype: float64"
      ]
     },
     "execution_count": 12,
     "metadata": {},
     "output_type": "execute_result"
    }
   ],
   "source": [
    "poke.groupby('type_1')['sp_attack'].mean().sort_values(ascending=False).head(10)"
   ]
  },
  {
   "cell_type": "markdown",
   "metadata": {},
   "source": [
    "#### Top 10 Primary Types by Base Physical Defense"
   ]
  },
  {
   "cell_type": "code",
   "execution_count": 9,
   "metadata": {},
   "outputs": [
    {
     "data": {
      "text/plain": [
       "type_1\n",
       "Steel       117.388889\n",
       "Rock         97.966667\n",
       "Ground       85.463415\n",
       "Dragon       84.775000\n",
       "Ghost        80.439024\n",
       "Poison       76.179487\n",
       "Water        73.119403\n",
       "Fighting     72.210526\n",
       "Grass        71.824176\n",
       "Bug          71.802469\n",
       "Name: defense, dtype: float64"
      ]
     },
     "execution_count": 9,
     "metadata": {},
     "output_type": "execute_result"
    }
   ],
   "source": [
    "poke.groupby('type_1')['defense'].mean().sort_values(ascending=False).head(10)"
   ]
  },
  {
   "cell_type": "markdown",
   "metadata": {},
   "source": [
    "#### Top 10 Primary Types by Base Special Defense"
   ]
  },
  {
   "cell_type": "code",
   "execution_count": 10,
   "metadata": {},
   "outputs": [
    {
     "data": {
      "text/plain": [
       "type_1\n",
       "Fairy       89.181818\n",
       "Psychic     87.723684\n",
       "Dragon      84.950000\n",
       "Ghost       78.780488\n",
       "Steel       76.694444\n",
       "Rock        72.800000\n",
       "Electric    72.016393\n",
       "Poison      71.846154\n",
       "Ice         71.694444\n",
       "Water       71.395522\n",
       "Name: sp_defense, dtype: float64"
      ]
     },
     "execution_count": 10,
     "metadata": {},
     "output_type": "execute_result"
    }
   ],
   "source": [
    "poke.groupby('type_1')['sp_defense'].mean().sort_values(ascending=False).head(10)"
   ]
  },
  {
   "cell_type": "markdown",
   "metadata": {},
   "source": [
    "#### Top 10 Primary Types by Base Speed"
   ]
  },
  {
   "cell_type": "code",
   "execution_count": 11,
   "metadata": {},
   "outputs": [
    {
     "data": {
      "text/plain": [
       "type_1\n",
       "Flying      87.000000\n",
       "Electric    84.901639\n",
       "Dragon      84.450000\n",
       "Psychic     80.592105\n",
       "Dark        75.395349\n",
       "Fire        74.369231\n",
       "Normal      69.678261\n",
       "Fighting    69.210526\n",
       "Poison      67.769231\n",
       "Ice         67.138889\n",
       "Name: speed, dtype: float64"
      ]
     },
     "execution_count": 11,
     "metadata": {},
     "output_type": "execute_result"
    }
   ],
   "source": [
    "poke.groupby('type_1')['speed'].mean().sort_values(ascending=False).head(10)"
   ]
  },
  {
   "cell_type": "markdown",
   "metadata": {},
   "source": [
    "#### Top 10 Primary Types by Base HP"
   ]
  },
  {
   "cell_type": "code",
   "execution_count": 12,
   "metadata": {},
   "outputs": [
    {
     "data": {
      "text/plain": [
       "type_1\n",
       "Dragon      82.375000\n",
       "Normal      77.052174\n",
       "Poison      73.948718\n",
       "Fairy       72.954545\n",
       "Psychic     71.973684\n",
       "Ice         71.500000\n",
       "Fighting    71.394737\n",
       "Water       70.888060\n",
       "Ground      70.853659\n",
       "Flying      69.625000\n",
       "Name: hp, dtype: float64"
      ]
     },
     "execution_count": 12,
     "metadata": {},
     "output_type": "execute_result"
    }
   ],
   "source": [
    "poke.groupby('type_1')['hp'].mean().sort_values(ascending=False).head(10)"
   ]
  },
  {
   "cell_type": "markdown",
   "metadata": {},
   "source": [
    "#### Top 10 Primary Types by Base Total Points"
   ]
  },
  {
   "cell_type": "code",
   "execution_count": 13,
   "metadata": {},
   "outputs": [
    {
     "data": {
      "text/plain": [
       "type_1\n",
       "Dragon      535.275000\n",
       "Psychic     485.315789\n",
       "Steel       481.472222\n",
       "Fire        455.015385\n",
       "Electric    449.327869\n",
       "Rock        448.683333\n",
       "Ghost       440.756098\n",
       "Flying      440.000000\n",
       "Fairy       439.272727\n",
       "Fighting    439.052632\n",
       "Name: total_points, dtype: float64"
      ]
     },
     "execution_count": 13,
     "metadata": {},
     "output_type": "execute_result"
    }
   ],
   "source": [
    "poke.groupby('type_1')['total_points'].mean().sort_values(ascending=False).head(10)"
   ]
  },
  {
   "cell_type": "markdown",
   "metadata": {},
   "source": [
    "#### b. Physical Attributes"
   ]
  },
  {
   "cell_type": "markdown",
   "metadata": {},
   "source": [
    "Now, we'll visualize the data and find out the top 10 types based on physical attributes, such as - height, weight and base experience."
   ]
  },
  {
   "cell_type": "code",
   "execution_count": 14,
   "metadata": {},
   "outputs": [
    {
     "data": {
      "image/png": "[encoded data removed]",
      "text/plain": [
       "<Figure size 1440x720 with 2 Axes>"
      ]
     },
     "metadata": {},
     "output_type": "display_data"
    }
   ],
   "source": [
    "sns.set_style('whitegrid')\n",
    "\n",
    "plt.figure(figsize=(20,10))\n",
    "plt.subplot(2,2,1)\n",
    "plf = poke.groupby('type_1')['height_m'].mean()\n",
    "plfg = sns.barplot(x=plf.index, y=plf, palette=\"GnBu_d\")\n",
    "plt.xlabel('Primary Type')\n",
    "plt.ylabel('Height in metres')\n",
    "plt.title('The mean height stat for all types')\n",
    "plfg.set_xticklabels(plfg.get_xticklabels(), rotation=90)\n",
    "\n",
    "plt.subplot(2,2,2)\n",
    "plf = poke.groupby('type_1')['weight_kg'].mean()\n",
    "plfg = sns.barplot(x=plf.index, y=plf, palette=\"OrRd_d\")\n",
    "plt.xlabel('Primary Type')\n",
    "plt.ylabel('Weight in kgs')\n",
    "plt.title('The mean weight stat for all types')\n",
    "plfg.set_xticklabels(plfg.get_xticklabels(), rotation=90)\n",
    "\n",
    "plt.show()"
   ]
  },
  {
   "cell_type": "code",
   "execution_count": 18,
   "metadata": {},
   "outputs": [
    {
     "data": {
      "image/png": "[encoded data removed]",
      "text/plain": [
       "<Figure size 1440x720 with 2 Axes>"
      ]
     },
     "metadata": {},
     "output_type": "display_data"
    }
   ],
   "source": [
    "plt.figure(figsize=(20,10))\n",
    "plt.subplot(2,2,1)\n",
    "plf = poke.groupby('type_1')['base_friendship'].mean()\n",
    "plfg = sns.barplot(x=plf.index, y=plf, palette=\"GnBu_d\")\n",
    "plt.xlabel('Primary Type')\n",
    "plt.ylabel('Base Friendship')\n",
    "plt.title('The mean base friendship for all types')\n",
    "plfg.set_xticklabels(plfg.get_xticklabels(), rotation=90)\n",
    "\n",
    "plt.subplot(2,2,2)\n",
    "plf = poke.groupby('type_1')['base_experience'].mean()\n",
    "plfg = sns.barplot(x=plf.index, y=plf, palette=\"OrRd_d\")\n",
    "plt.xlabel('Primary Type')\n",
    "plt.ylabel('Base Experience')\n",
    "plt.title('The mean base experience for all types')\n",
    "plfg.set_xticklabels(plfg.get_xticklabels(), rotation=90)\n",
    "\n",
    "plt.show()"
   ]
  },
  {
   "cell_type": "code",
   "execution_count": 17,
   "metadata": {},
   "outputs": [
    {
     "data": {
      "image/png": "[encoded data removed]",
      "text/plain": [
       "<Figure size 720x360 with 1 Axes>"
      ]
     },
     "metadata": {},
     "output_type": "display_data"
    }
   ],
   "source": [
    "sns.set_style('whitegrid')\n",
    "\n",
    "plt.figure(figsize=(10,5))\n",
    "plf = poke.groupby('type_1')['catch_rate'].mean()\n",
    "plfg = sns.barplot(x=plf.index, y=plf, palette=\"YlOrBr_d\")\n",
    "plt.xlabel('Primary Type')\n",
    "plt.ylabel('Catch Rate')\n",
    "plt.title('The mean catch rate for all types')\n",
    "plfg.set_xticklabels(plfg.get_xticklabels(), rotation=90)\n",
    "\n",
    "plt.show()"
   ]
  },
  {
   "cell_type": "markdown",
   "metadata": {},
   "source": [
    "#### Top 10 Primary Types by Height (in metres)"
   ]
  },
  {
   "cell_type": "code",
   "execution_count": 19,
   "metadata": {},
   "outputs": [
    {
     "data": {
      "text/plain": [
       "type_1\n",
       "Poison      4.251282\n",
       "Dragon      2.247500\n",
       "Steel       2.022222\n",
       "Water       1.442537\n",
       "Ground      1.358537\n",
       "Psychic     1.350000\n",
       "Rock        1.346667\n",
       "Fighting    1.300000\n",
       "Ghost       1.212195\n",
       "Fire        1.204615\n",
       "Name: height_m, dtype: float64"
      ]
     },
     "execution_count": 19,
     "metadata": {},
     "output_type": "execute_result"
    }
   ],
   "source": [
    "poke.groupby('type_1')['height_m'].mean().sort_values(ascending=False).head(10)"
   ]
  },
  {
   "cell_type": "markdown",
   "metadata": {},
   "source": [
    "#### Top 10 Primary Types by Weight (in kgs)"
   ]
  },
  {
   "cell_type": "code",
   "execution_count": 20,
   "metadata": {},
   "outputs": [
    {
     "data": {
      "text/plain": [
       "type_1\n",
       "Steel       231.113889\n",
       "Ground      133.385366\n",
       "Dragon      125.287500\n",
       "Rock        114.481667\n",
       "Ice          93.183333\n",
       "Fighting     79.292105\n",
       "Psychic      69.939474\n",
       "Fire         65.020000\n",
       "Ghost        64.360976\n",
       "Poison       60.176316\n",
       "Name: weight_kg, dtype: float64"
      ]
     },
     "execution_count": 20,
     "metadata": {},
     "output_type": "execute_result"
    }
   ],
   "source": [
    "poke.groupby('type_1')['weight_kg'].mean().sort_values(ascending=False).head(10)"
   ]
  },
  {
   "cell_type": "markdown",
   "metadata": {},
   "source": [
    "#### Top 10 Primary Types by Base Friendship"
   ]
  },
  {
   "cell_type": "code",
   "execution_count": 21,
   "metadata": {},
   "outputs": [
    {
     "data": {
      "text/plain": [
       "type_1\n",
       "Flying      80.000000\n",
       "Fairy       77.777778\n",
       "Normal      70.495495\n",
       "Grass       68.192771\n",
       "Electric    67.843137\n",
       "Fighting    67.741935\n",
       "Fire        67.500000\n",
       "Bug         67.307692\n",
       "Ground      67.222222\n",
       "Poison      66.944444\n",
       "Name: base_friendship, dtype: float64"
      ]
     },
     "execution_count": 21,
     "metadata": {},
     "output_type": "execute_result"
    }
   ],
   "source": [
    "poke.groupby('type_1')['base_friendship'].mean().sort_values(ascending=False).head(10)"
   ]
  },
  {
   "cell_type": "markdown",
   "metadata": {},
   "source": [
    "#### Top 10 Primary Types by Base Experience"
   ]
  },
  {
   "cell_type": "code",
   "execution_count": 22,
   "metadata": {},
   "outputs": [
    {
     "data": {
      "text/plain": [
       "type_1\n",
       "Dragon      221.540541\n",
       "Psychic     191.477612\n",
       "Steel       191.448276\n",
       "Flying      189.500000\n",
       "Electric    165.392157\n",
       "Fire        163.800000\n",
       "Rock        149.232143\n",
       "Ghost       146.891892\n",
       "Water       146.840000\n",
       "Ice         145.862069\n",
       "Name: base_experience, dtype: float64"
      ]
     },
     "execution_count": 22,
     "metadata": {},
     "output_type": "execute_result"
    }
   ],
   "source": [
    "poke.groupby('type_1')['base_experience'].mean().sort_values(ascending=False).head(10)"
   ]
  },
  {
   "cell_type": "markdown",
   "metadata": {},
   "source": [
    "#### Top 10 Primary Types by Base Catch Rate"
   ]
  },
  {
   "cell_type": "code",
   "execution_count": 23,
   "metadata": {},
   "outputs": [
    {
     "data": {
      "text/plain": [
       "type_1\n",
       "Poison      124.027778\n",
       "Normal      117.801802\n",
       "Fairy       116.944444\n",
       "Bug         111.384615\n",
       "Ground      104.972222\n",
       "Grass       100.855422\n",
       "Ice          99.862069\n",
       "Fighting     98.161290\n",
       "Electric     94.470588\n",
       "Water        94.288000\n",
       "Name: catch_rate, dtype: float64"
      ]
     },
     "execution_count": 23,
     "metadata": {},
     "output_type": "execute_result"
    }
   ],
   "source": [
    "poke.groupby('type_1')['catch_rate'].mean().sort_values(ascending=False).head(10)"
   ]
  },
  {
   "cell_type": "markdown",
   "metadata": {},
   "source": [
    "#### 3. Filter by generations"
   ]
  },
  {
   "cell_type": "markdown",
   "metadata": {},
   "source": [
    "#### a. Competitive statistics"
   ]
  },
  {
   "cell_type": "markdown",
   "metadata": {},
   "source": [
    "Next, we'll analyze the dataset in terms of the released generations. We'll use Seaborn graphs to visualize the graphs. We'll take a look at the competitive statistics first and determine the top 10 types for the following stats - attack, special attack, defense, special defense, speed, hp and base total."
   ]
  },
  {
   "cell_type": "code",
   "execution_count": 25,
   "metadata": {},
   "outputs": [
    {
     "data": {
      "image/png": "[encoded data removed]",
      "text/plain": [
       "<Figure size 1440x720 with 2 Axes>"
      ]
     },
     "metadata": {},
     "output_type": "display_data"
    }
   ],
   "source": [
    "sns.set_style('whitegrid')\n",
    "\n",
    "plt.figure(figsize=(20,10))\n",
    "plt.subplot(2,2,1)\n",
    "plf = poke.groupby('generation')['attack'].mean()\n",
    "plfg = sns.barplot(x=plf.index, y=plf, palette=\"GnBu_d\")\n",
    "plt.xlabel('Generation')\n",
    "plt.ylabel('Base Physical Attack')\n",
    "plt.title('The mean physical attack stat for all generations')\n",
    "plfg.set_xticklabels(plfg.get_xticklabels(), rotation=90)\n",
    "\n",
    "plt.subplot(2,2,2)\n",
    "plf = poke.groupby('generation')['sp_attack'].mean()\n",
    "plfg = sns.barplot(x=plf.index, y=plf, palette=\"OrRd_d\")\n",
    "plt.xlabel('Generation')\n",
    "plt.ylabel('Base Special Attack')\n",
    "plt.title('The mean special attack stat for all generations')\n",
    "plfg.set_xticklabels(plfg.get_xticklabels(), rotation=90)\n",
    "\n",
    "plt.show()"
   ]
  },
  {
   "cell_type": "code",
   "execution_count": 26,
   "metadata": {},
   "outputs": [
    {
     "data": {
      "image/png": "[encoded data removed]",
      "text/plain": [
       "<Figure size 1440x720 with 2 Axes>"
      ]
     },
     "metadata": {},
     "output_type": "display_data"
    }
   ],
   "source": [
    "sns.set_style('whitegrid')\n",
    "\n",
    "plt.figure(figsize=(20,10))\n",
    "plt.subplot(2,2,1)\n",
    "plf = poke.groupby('generation')['defense'].mean()\n",
    "plfg = sns.barplot(x=plf.index, y=plf, palette=\"YlGnBu_d\")\n",
    "plt.xlabel('Generation')\n",
    "plt.ylabel('Base Physical Defense')\n",
    "plt.title('The mean physical defense stat for all generations')\n",
    "plfg.set_xticklabels(plfg.get_xticklabels(), rotation=90)\n",
    "\n",
    "plt.subplot(2,2,2)\n",
    "plf = poke.groupby('generation')['sp_defense'].mean()\n",
    "plfg = sns.barplot(x=plf.index, y=plf, palette=\"YlOrRd_d\")\n",
    "plt.xlabel('Generation')\n",
    "plt.ylabel('Base Special Defense')\n",
    "plt.title('The mean special defense stat for all generations')\n",
    "plfg.set_xticklabels(plfg.get_xticklabels(), rotation=90)\n",
    "\n",
    "plt.show()"
   ]
  },
  {
   "cell_type": "code",
   "execution_count": null,
   "metadata": {},
   "outputs": [],
   "source": []
  }
 ],
 "metadata": {
  "kernelspec": {
   "display_name": "Python 3",
   "language": "python",
   "name": "python3"
  },
  "language_info": {
   "codemirror_mode": {
    "name": "ipython",
    "version": 3
   },
   "file_extension": ".py",
   "mimetype": "text/x-python",
   "name": "python",
   "nbconvert_exporter": "python",
   "pygments_lexer": "ipython3",
   "version": "3.7.6"
  }
 },
 "nbformat": 4,
 "nbformat_minor": 4
}
