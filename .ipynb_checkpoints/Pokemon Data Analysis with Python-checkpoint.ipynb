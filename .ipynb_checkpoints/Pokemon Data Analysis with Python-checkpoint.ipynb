{
 "cells": [
  {
   "cell_type": "markdown",
   "metadata": {},
   "source": [
    "# Pokemon Data Analysis with Python\n",
    "\n",
    "The amazing world of Pokemon spans a total of 8 generations, consisting of different species and types. We'll now analyze a dataset of all Pokemon from all the 8 generations and try to find patterns and trends among the types and statistics."
   ]
  },
  {
   "cell_type": "markdown",
   "metadata": {},
   "source": [
    "## Importing the libraries"
   ]
  },
  {
   "cell_type": "markdown",
   "metadata": {},
   "source": [
    "Firstly, we'll import all the necessary libraries, like Pandas and NumPy, alongside, tools needed for data visualization. like Matplotlib and Seaborn."
   ]
  },
  {
   "cell_type": "code",
   "execution_count": 2,
   "metadata": {},
   "outputs": [],
   "source": [
    "import pandas as pd\n",
    "import numpy as np\n",
    "import matplotlib.pyplot as plt\n",
    "import seaborn as sns"
   ]
  },
  {
   "cell_type": "markdown",
   "metadata": {},
   "source": [
    "## Importing the dataset"
   ]
  },
  {
   "cell_type": "markdown",
   "metadata": {},
   "source": [
    "Next, we'll import the pokedex dataset which includes all the data of the Pokemon."
   ]
  },
  {
   "cell_type": "code",
   "execution_count": 3,
   "metadata": {
    "scrolled": true
   },
   "outputs": [
    {
     "data": {
      "text/html": [
       "<div>\n",
       "<style scoped>\n",
       "    .dataframe tbody tr th:only-of-type {\n",
       "        vertical-align: middle;\n",
       "    }\n",
       "\n",
       "    .dataframe tbody tr th {\n",
       "        vertical-align: top;\n",
       "    }\n",
       "\n",
       "    .dataframe thead th {\n",
       "        text-align: right;\n",
       "    }\n",
       "</style>\n",
       "<table border=\"1\" class=\"dataframe\">\n",
       "  <thead>\n",
       "    <tr style=\"text-align: right;\">\n",
       "      <th></th>\n",
       "      <th>Unnamed: 0</th>\n",
       "      <th>pokedex_number</th>\n",
       "      <th>name</th>\n",
       "      <th>german_name</th>\n",
       "      <th>japanese_name</th>\n",
       "      <th>generation</th>\n",
       "      <th>is_sub_legendary</th>\n",
       "      <th>is_legendary</th>\n",
       "      <th>is_mythical</th>\n",
       "      <th>species</th>\n",
       "      <th>...</th>\n",
       "      <th>against_ground</th>\n",
       "      <th>against_flying</th>\n",
       "      <th>against_psychic</th>\n",
       "      <th>against_bug</th>\n",
       "      <th>against_rock</th>\n",
       "      <th>against_ghost</th>\n",
       "      <th>against_dragon</th>\n",
       "      <th>against_dark</th>\n",
       "      <th>against_steel</th>\n",
       "      <th>against_fairy</th>\n",
       "    </tr>\n",
       "  </thead>\n",
       "  <tbody>\n",
       "    <tr>\n",
       "      <th>0</th>\n",
       "      <td>0</td>\n",
       "      <td>1</td>\n",
       "      <td>Bulbasaur</td>\n",
       "      <td>Bisasam</td>\n",
       "      <td>フシギダネ (Fushigidane)</td>\n",
       "      <td>1</td>\n",
       "      <td>0</td>\n",
       "      <td>0</td>\n",
       "      <td>0</td>\n",
       "      <td>Seed Pokémon</td>\n",
       "      <td>...</td>\n",
       "      <td>1.0</td>\n",
       "      <td>2.0</td>\n",
       "      <td>2.0</td>\n",
       "      <td>1.00</td>\n",
       "      <td>1.0</td>\n",
       "      <td>1.0</td>\n",
       "      <td>1.0</td>\n",
       "      <td>1.0</td>\n",
       "      <td>1.0</td>\n",
       "      <td>0.5</td>\n",
       "    </tr>\n",
       "    <tr>\n",
       "      <th>1</th>\n",
       "      <td>1</td>\n",
       "      <td>2</td>\n",
       "      <td>Ivysaur</td>\n",
       "      <td>Bisaknosp</td>\n",
       "      <td>フシギソウ (Fushigisou)</td>\n",
       "      <td>1</td>\n",
       "      <td>0</td>\n",
       "      <td>0</td>\n",
       "      <td>0</td>\n",
       "      <td>Seed Pokémon</td>\n",
       "      <td>...</td>\n",
       "      <td>1.0</td>\n",
       "      <td>2.0</td>\n",
       "      <td>2.0</td>\n",
       "      <td>1.00</td>\n",
       "      <td>1.0</td>\n",
       "      <td>1.0</td>\n",
       "      <td>1.0</td>\n",
       "      <td>1.0</td>\n",
       "      <td>1.0</td>\n",
       "      <td>0.5</td>\n",
       "    </tr>\n",
       "    <tr>\n",
       "      <th>2</th>\n",
       "      <td>2</td>\n",
       "      <td>3</td>\n",
       "      <td>Venusaur</td>\n",
       "      <td>Bisaflor</td>\n",
       "      <td>フシギバナ (Fushigibana)</td>\n",
       "      <td>1</td>\n",
       "      <td>0</td>\n",
       "      <td>0</td>\n",
       "      <td>0</td>\n",
       "      <td>Seed Pokémon</td>\n",
       "      <td>...</td>\n",
       "      <td>1.0</td>\n",
       "      <td>2.0</td>\n",
       "      <td>2.0</td>\n",
       "      <td>1.00</td>\n",
       "      <td>1.0</td>\n",
       "      <td>1.0</td>\n",
       "      <td>1.0</td>\n",
       "      <td>1.0</td>\n",
       "      <td>1.0</td>\n",
       "      <td>0.5</td>\n",
       "    </tr>\n",
       "    <tr>\n",
       "      <th>3</th>\n",
       "      <td>3</td>\n",
       "      <td>3</td>\n",
       "      <td>Mega Venusaur</td>\n",
       "      <td>Bisaflor</td>\n",
       "      <td>フシギバナ (Fushigibana)</td>\n",
       "      <td>1</td>\n",
       "      <td>0</td>\n",
       "      <td>0</td>\n",
       "      <td>0</td>\n",
       "      <td>Seed Pokémon</td>\n",
       "      <td>...</td>\n",
       "      <td>1.0</td>\n",
       "      <td>2.0</td>\n",
       "      <td>2.0</td>\n",
       "      <td>1.00</td>\n",
       "      <td>1.0</td>\n",
       "      <td>1.0</td>\n",
       "      <td>1.0</td>\n",
       "      <td>1.0</td>\n",
       "      <td>1.0</td>\n",
       "      <td>0.5</td>\n",
       "    </tr>\n",
       "    <tr>\n",
       "      <th>4</th>\n",
       "      <td>4</td>\n",
       "      <td>4</td>\n",
       "      <td>Charmander</td>\n",
       "      <td>Glumanda</td>\n",
       "      <td>ヒトカゲ (Hitokage)</td>\n",
       "      <td>1</td>\n",
       "      <td>0</td>\n",
       "      <td>0</td>\n",
       "      <td>0</td>\n",
       "      <td>Lizard Pokémon</td>\n",
       "      <td>...</td>\n",
       "      <td>2.0</td>\n",
       "      <td>1.0</td>\n",
       "      <td>1.0</td>\n",
       "      <td>0.50</td>\n",
       "      <td>2.0</td>\n",
       "      <td>1.0</td>\n",
       "      <td>1.0</td>\n",
       "      <td>1.0</td>\n",
       "      <td>0.5</td>\n",
       "      <td>0.5</td>\n",
       "    </tr>\n",
       "    <tr>\n",
       "      <th>5</th>\n",
       "      <td>5</td>\n",
       "      <td>5</td>\n",
       "      <td>Charmeleon</td>\n",
       "      <td>Glutexo</td>\n",
       "      <td>リザード (Lizardo)</td>\n",
       "      <td>1</td>\n",
       "      <td>0</td>\n",
       "      <td>0</td>\n",
       "      <td>0</td>\n",
       "      <td>Flame Pokémon</td>\n",
       "      <td>...</td>\n",
       "      <td>2.0</td>\n",
       "      <td>1.0</td>\n",
       "      <td>1.0</td>\n",
       "      <td>0.50</td>\n",
       "      <td>2.0</td>\n",
       "      <td>1.0</td>\n",
       "      <td>1.0</td>\n",
       "      <td>1.0</td>\n",
       "      <td>0.5</td>\n",
       "      <td>0.5</td>\n",
       "    </tr>\n",
       "    <tr>\n",
       "      <th>6</th>\n",
       "      <td>6</td>\n",
       "      <td>6</td>\n",
       "      <td>Charizard</td>\n",
       "      <td>Glurak</td>\n",
       "      <td>リザードン (Lizardon)</td>\n",
       "      <td>1</td>\n",
       "      <td>0</td>\n",
       "      <td>0</td>\n",
       "      <td>0</td>\n",
       "      <td>Flame Pokémon</td>\n",
       "      <td>...</td>\n",
       "      <td>0.0</td>\n",
       "      <td>1.0</td>\n",
       "      <td>1.0</td>\n",
       "      <td>0.25</td>\n",
       "      <td>4.0</td>\n",
       "      <td>1.0</td>\n",
       "      <td>1.0</td>\n",
       "      <td>1.0</td>\n",
       "      <td>0.5</td>\n",
       "      <td>0.5</td>\n",
       "    </tr>\n",
       "    <tr>\n",
       "      <th>7</th>\n",
       "      <td>7</td>\n",
       "      <td>6</td>\n",
       "      <td>Mega Charizard X</td>\n",
       "      <td>Glurak</td>\n",
       "      <td>リザードン (Lizardon)</td>\n",
       "      <td>1</td>\n",
       "      <td>0</td>\n",
       "      <td>0</td>\n",
       "      <td>0</td>\n",
       "      <td>Flame Pokémon</td>\n",
       "      <td>...</td>\n",
       "      <td>2.0</td>\n",
       "      <td>1.0</td>\n",
       "      <td>1.0</td>\n",
       "      <td>0.50</td>\n",
       "      <td>2.0</td>\n",
       "      <td>1.0</td>\n",
       "      <td>2.0</td>\n",
       "      <td>1.0</td>\n",
       "      <td>0.5</td>\n",
       "      <td>1.0</td>\n",
       "    </tr>\n",
       "    <tr>\n",
       "      <th>8</th>\n",
       "      <td>8</td>\n",
       "      <td>6</td>\n",
       "      <td>Mega Charizard Y</td>\n",
       "      <td>Glurak</td>\n",
       "      <td>リザードン (Lizardon)</td>\n",
       "      <td>1</td>\n",
       "      <td>0</td>\n",
       "      <td>0</td>\n",
       "      <td>0</td>\n",
       "      <td>Flame Pokémon</td>\n",
       "      <td>...</td>\n",
       "      <td>0.0</td>\n",
       "      <td>1.0</td>\n",
       "      <td>1.0</td>\n",
       "      <td>0.25</td>\n",
       "      <td>4.0</td>\n",
       "      <td>1.0</td>\n",
       "      <td>1.0</td>\n",
       "      <td>1.0</td>\n",
       "      <td>0.5</td>\n",
       "      <td>0.5</td>\n",
       "    </tr>\n",
       "    <tr>\n",
       "      <th>9</th>\n",
       "      <td>9</td>\n",
       "      <td>7</td>\n",
       "      <td>Squirtle</td>\n",
       "      <td>Schiggy</td>\n",
       "      <td>ゼニガメ (Zenigame)</td>\n",
       "      <td>1</td>\n",
       "      <td>0</td>\n",
       "      <td>0</td>\n",
       "      <td>0</td>\n",
       "      <td>Tiny Turtle Pokémon</td>\n",
       "      <td>...</td>\n",
       "      <td>1.0</td>\n",
       "      <td>1.0</td>\n",
       "      <td>1.0</td>\n",
       "      <td>1.00</td>\n",
       "      <td>1.0</td>\n",
       "      <td>1.0</td>\n",
       "      <td>1.0</td>\n",
       "      <td>1.0</td>\n",
       "      <td>0.5</td>\n",
       "      <td>1.0</td>\n",
       "    </tr>\n",
       "  </tbody>\n",
       "</table>\n",
       "<p>10 rows × 53 columns</p>\n",
       "</div>"
      ],
      "text/plain": [
       "   Unnamed: 0  pokedex_number              name german_name  \\\n",
       "0           0               1         Bulbasaur     Bisasam   \n",
       "1           1               2           Ivysaur   Bisaknosp   \n",
       "2           2               3          Venusaur    Bisaflor   \n",
       "3           3               3     Mega Venusaur    Bisaflor   \n",
       "4           4               4        Charmander    Glumanda   \n",
       "5           5               5        Charmeleon     Glutexo   \n",
       "6           6               6         Charizard      Glurak   \n",
       "7           7               6  Mega Charizard X      Glurak   \n",
       "8           8               6  Mega Charizard Y      Glurak   \n",
       "9           9               7          Squirtle     Schiggy   \n",
       "\n",
       "         japanese_name  generation  is_sub_legendary  is_legendary  \\\n",
       "0  フシギダネ (Fushigidane)           1                 0             0   \n",
       "1   フシギソウ (Fushigisou)           1                 0             0   \n",
       "2  フシギバナ (Fushigibana)           1                 0             0   \n",
       "3  フシギバナ (Fushigibana)           1                 0             0   \n",
       "4      ヒトカゲ (Hitokage)           1                 0             0   \n",
       "5       リザード (Lizardo)           1                 0             0   \n",
       "6     リザードン (Lizardon)           1                 0             0   \n",
       "7     リザードン (Lizardon)           1                 0             0   \n",
       "8     リザードン (Lizardon)           1                 0             0   \n",
       "9      ゼニガメ (Zenigame)           1                 0             0   \n",
       "\n",
       "   is_mythical              species  ...  against_ground against_flying  \\\n",
       "0            0         Seed Pokémon  ...             1.0            2.0   \n",
       "1            0         Seed Pokémon  ...             1.0            2.0   \n",
       "2            0         Seed Pokémon  ...             1.0            2.0   \n",
       "3            0         Seed Pokémon  ...             1.0            2.0   \n",
       "4            0       Lizard Pokémon  ...             2.0            1.0   \n",
       "5            0        Flame Pokémon  ...             2.0            1.0   \n",
       "6            0        Flame Pokémon  ...             0.0            1.0   \n",
       "7            0        Flame Pokémon  ...             2.0            1.0   \n",
       "8            0        Flame Pokémon  ...             0.0            1.0   \n",
       "9            0  Tiny Turtle Pokémon  ...             1.0            1.0   \n",
       "\n",
       "  against_psychic  against_bug  against_rock  against_ghost against_dragon  \\\n",
       "0             2.0         1.00           1.0            1.0            1.0   \n",
       "1             2.0         1.00           1.0            1.0            1.0   \n",
       "2             2.0         1.00           1.0            1.0            1.0   \n",
       "3             2.0         1.00           1.0            1.0            1.0   \n",
       "4             1.0         0.50           2.0            1.0            1.0   \n",
       "5             1.0         0.50           2.0            1.0            1.0   \n",
       "6             1.0         0.25           4.0            1.0            1.0   \n",
       "7             1.0         0.50           2.0            1.0            2.0   \n",
       "8             1.0         0.25           4.0            1.0            1.0   \n",
       "9             1.0         1.00           1.0            1.0            1.0   \n",
       "\n",
       "  against_dark against_steel  against_fairy  \n",
       "0          1.0           1.0            0.5  \n",
       "1          1.0           1.0            0.5  \n",
       "2          1.0           1.0            0.5  \n",
       "3          1.0           1.0            0.5  \n",
       "4          1.0           0.5            0.5  \n",
       "5          1.0           0.5            0.5  \n",
       "6          1.0           0.5            0.5  \n",
       "7          1.0           0.5            1.0  \n",
       "8          1.0           0.5            0.5  \n",
       "9          1.0           0.5            1.0  \n",
       "\n",
       "[10 rows x 53 columns]"
      ]
     },
     "execution_count": 3,
     "metadata": {},
     "output_type": "execute_result"
    }
   ],
   "source": [
    "poke = pd.read_csv('pokedex.csv')\n",
    "\n",
    "poke.head(10)"
   ]
  },
  {
   "cell_type": "markdown",
   "metadata": {},
   "source": [
    "Next, we'll see the shape of the dataset and count the the number of values in each column."
   ]
  },
  {
   "cell_type": "code",
   "execution_count": 4,
   "metadata": {},
   "outputs": [
    {
     "name": "stdout",
     "output_type": "stream",
     "text": [
      "(1028, 53)\n"
     ]
    },
    {
     "data": {
      "text/plain": [
       "Unnamed: 0          1028\n",
       "pokedex_number      1028\n",
       "name                1028\n",
       "german_name          938\n",
       "japanese_name        938\n",
       "generation          1028\n",
       "is_sub_legendary    1028\n",
       "is_legendary        1028\n",
       "is_mythical         1028\n",
       "species             1027\n",
       "type_number         1028\n",
       "type_1              1027\n",
       "type_2               541\n",
       "height_m            1027\n",
       "weight_kg           1026\n",
       "abilities_number    1028\n",
       "ability_1           1024\n",
       "ability_2            512\n",
       "ability_hidden       810\n",
       "total_points        1027\n",
       "hp                  1027\n",
       "attack              1027\n",
       "defense             1027\n",
       "sp_attack           1027\n",
       "sp_defense          1027\n",
       "speed               1027\n",
       "catch_rate           923\n",
       "base_friendship      923\n",
       "base_experience      923\n",
       "growth_rate         1026\n",
       "egg_type_number     1028\n",
       "egg_type_1          1024\n",
       "egg_type_2           282\n",
       "percentage_male      791\n",
       "egg_cycles          1026\n",
       "against_normal      1027\n",
       "against_fire        1027\n",
       "against_water       1027\n",
       "against_electric    1027\n",
       "against_grass       1027\n",
       "against_ice         1027\n",
       "against_fight       1027\n",
       "against_poison      1027\n",
       "against_ground      1027\n",
       "against_flying      1027\n",
       "against_psychic     1027\n",
       "against_bug         1027\n",
       "against_rock        1027\n",
       "against_ghost       1027\n",
       "against_dragon      1027\n",
       "against_dark        1027\n",
       "against_steel       1027\n",
       "against_fairy       1027\n",
       "dtype: int64"
      ]
     },
     "execution_count": 4,
     "metadata": {},
     "output_type": "execute_result"
    }
   ],
   "source": [
    "print(poke.shape)\n",
    "poke.count()"
   ]
  },
  {
   "cell_type": "markdown",
   "metadata": {},
   "source": [
    "#### The dataset has 1028 rows and 53 columns."
   ]
  },
  {
   "cell_type": "markdown",
   "metadata": {},
   "source": [
    "#### 1. Filter by types"
   ]
  },
  {
   "cell_type": "markdown",
   "metadata": {},
   "source": [
    "#### a. Competitive statistics"
   ]
  },
  {
   "cell_type": "markdown",
   "metadata": {},
   "source": [
    "Firstly, we'll analyze the dataset in terms of the Pokemon types. We'll filter using the primary types of each Pokemon. We'll use Seaborn graphs to visualize the graphs. We'll take a look at the competitive statistics first and determine the top 10 types for the following stats - attack, special attack, defense, special defense, speed, hp and base total."
   ]
  },
  {
   "cell_type": "code",
   "execution_count": 24,
   "metadata": {},
   "outputs": [
    {
     "data": {
      "image/png": "[encoded data removed]",
      "text/plain": [
       "<Figure size 1440x720 with 2 Axes>"
      ]
     },
     "metadata": {},
     "output_type": "display_data"
    }
   ],
   "source": [
    "%matplotlib inline\n",
    "\n",
    "sns.set_style('whitegrid')\n",
    "\n",
    "plt.figure(figsize=(20,10))\n",
    "plt.subplot(2,2,1)\n",
    "plf = poke.groupby('type_1')['attack'].mean()\n",
    "plfg = sns.barplot(x=plf.index, y=plf, palette=\"GnBu_d\")\n",
    "plt.xlabel('Primary Type')\n",
    "plt.ylabel('Base Physical Attack')\n",
    "plt.title('The mean physical attack stat for all types')\n",
    "plfg.set_xticklabels(plfg.get_xticklabels(), rotation=90)\n",
    "\n",
    "plt.subplot(2,2,2)\n",
    "plf = poke.groupby('type_1')['sp_attack'].mean()\n",
    "plfg = sns.barplot(x=plf.index, y=plf, palette=\"OrRd_d\")\n",
    "plt.xlabel('Primary Type')\n",
    "plt.ylabel('Base Special Attack')\n",
    "plt.title('The mean special attack stat for all types')\n",
    "plfg.set_xticklabels(plfg.get_xticklabels(), rotation=90)\n",
    "\n",
    "plt.show()"
   ]
  },
  {
   "cell_type": "code",
   "execution_count": 26,
   "metadata": {},
   "outputs": [
    {
     "data": {
      "image/png": "[encoded data removed]",
      "text/plain": [
       "<Figure size 1440x720 with 2 Axes>"
      ]
     },
     "metadata": {},
     "output_type": "display_data"
    }
   ],
   "source": [
    "sns.set_style('whitegrid')\n",
    "\n",
    "plt.figure(figsize=(20,10))\n",
    "plt.subplot(2,2,1)\n",
    "plf = poke.groupby('type_1')['defense'].mean()\n",
    "plfg = sns.barplot(x=plf.index, y=plf, palette=\"YlGnBu_d\")\n",
    "plt.xlabel('Primary Type')\n",
    "plt.ylabel('Base Physical Defense')\n",
    "plt.title('The mean physical defense stat for all types')\n",
    "plfg.set_xticklabels(plfg.get_xticklabels(), rotation=90)\n",
    "\n",
    "plt.subplot(2,2,2)\n",
    "plf = poke.groupby('type_1')['sp_defense'].mean()\n",
    "plfg = sns.barplot(x=plf.index, y=plf, palette=\"YlOrRd_d\")\n",
    "plt.xlabel('Primary Type')\n",
    "plt.ylabel('Base Special Defense')\n",
    "plt.title('The mean special defense stat for all types')\n",
    "plfg.set_xticklabels(plfg.get_xticklabels(), rotation=90)\n",
    "\n",
    "plt.show()"
   ]
  },
  {
   "cell_type": "code",
   "execution_count": 32,
   "metadata": {},
   "outputs": [
    {
     "data": {
      "image/png": "[encoded data removed]",
      "text/plain": [
       "<Figure size 1440x720 with 2 Axes>"
      ]
     },
     "metadata": {},
     "output_type": "display_data"
    }
   ],
   "source": [
    "sns.set_style('whitegrid')\n",
    "\n",
    "plt.figure(figsize=(20,10))\n",
    "plt.subplot(2,2,1)\n",
    "plf = poke.groupby('type_1')['speed'].mean()\n",
    "plfg = sns.barplot(x=plf.index, y=plf, palette=\"BuPu_d\")\n",
    "plt.xlabel('Primary Type')\n",
    "plt.ylabel('Base Speed')\n",
    "plt.title('The mean speed stat for all types')\n",
    "plfg.set_xticklabels(plfg.get_xticklabels(), rotation=90)\n",
    "\n",
    "plt.subplot(2,2,2)\n",
    "plf = poke.groupby('type_1')['hp'].mean()\n",
    "plfg = sns.barplot(x=plf.index, y=plf, palette=\"RdPu_d\")\n",
    "plt.xlabel('Primary Type')\n",
    "plt.ylabel('Base HP')\n",
    "plt.title('The mean HP stat for all types')\n",
    "plfg.set_xticklabels(plfg.get_xticklabels(), rotation=90)\n",
    "\n",
    "plt.show()"
   ]
  },
  {
   "cell_type": "code",
   "execution_count": 31,
   "metadata": {},
   "outputs": [
    {
     "data": {
      "image/png": "[encoded data removed]",
      "text/plain": [
       "<Figure size 1440x720 with 1 Axes>"
      ]
     },
     "metadata": {},
     "output_type": "display_data"
    }
   ],
   "source": [
    "sns.set_style('whitegrid')\n",
    "\n",
    "plt.figure(figsize=(20,10))\n",
    "plt.subplot(2,2,1)\n",
    "plf = poke.groupby('type_1')['total_points'].mean()\n",
    "plfg = sns.barplot(x=plf.index, y=plf, palette=\"YlOrBr_d\")\n",
    "plt.xlabel('Primary Type')\n",
    "plt.ylabel('Base Total Points')\n",
    "plt.title('The mean BST for all types')\n",
    "plfg.set_xticklabels(plfg.get_xticklabels(), rotation=90)\n",
    "\n",
    "plt.show()"
   ]
  },
  {
   "cell_type": "markdown",
   "metadata": {},
   "source": [
    "#### Top 10 Primary Types by Base Physical Attack"
   ]
  },
  {
   "cell_type": "code",
   "execution_count": 13,
   "metadata": {},
   "outputs": [
    {
     "data": {
      "text/plain": [
       "type_1\n",
       "Dragon      107.200000\n",
       "Fighting    101.263158\n",
       "Ground       94.121951\n",
       "Steel        94.083333\n",
       "Rock         91.783333\n",
       "Fire         85.400000\n",
       "Dark         80.906977\n",
       "Ice          76.638889\n",
       "Poison       75.538462\n",
       "Normal       75.260870\n",
       "Name: attack, dtype: float64"
      ]
     },
     "execution_count": 13,
     "metadata": {},
     "output_type": "execute_result"
    }
   ],
   "source": [
    "poke.groupby('type_1')['attack'].mean().sort_values(ascending=False).head(10)"
   ]
  },
  {
   "cell_type": "markdown",
   "metadata": {},
   "source": [
    "#### Top 10 Primary Types by Base Special Attack"
   ]
  },
  {
   "cell_type": "code",
   "execution_count": 12,
   "metadata": {},
   "outputs": [
    {
     "data": {
      "text/plain": [
       "type_1\n",
       "Psychic     99.105263\n",
       "Dragon      91.525000\n",
       "Electric    89.377049\n",
       "Fire        86.415385\n",
       "Ghost       81.975610\n",
       "Fairy       78.954545\n",
       "Grass       75.043956\n",
       "Water       75.007463\n",
       "Flying      73.875000\n",
       "Steel       70.138889\n",
       "Name: sp_attack, dtype: float64"
      ]
     },
     "execution_count": 12,
     "metadata": {},
     "output_type": "execute_result"
    }
   ],
   "source": [
    "poke.groupby('type_1')['sp_attack'].mean().sort_values(ascending=False).head(10)"
   ]
  },
  {
   "cell_type": "code",
   "execution_count": null,
   "metadata": {},
   "outputs": [],
   "source": []
  }
 ],
 "metadata": {
  "kernelspec": {
   "display_name": "Python 3",
   "language": "python",
   "name": "python3"
  },
  "language_info": {
   "codemirror_mode": {
    "name": "ipython",
    "version": 3
   },
   "file_extension": ".py",
   "mimetype": "text/x-python",
   "name": "python",
   "nbconvert_exporter": "python",
   "pygments_lexer": "ipython3",
   "version": "3.7.6"
  }
 },
 "nbformat": 4,
 "nbformat_minor": 4
}
